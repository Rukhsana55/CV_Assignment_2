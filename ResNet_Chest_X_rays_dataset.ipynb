{
  "nbformat": 4,
  "nbformat_minor": 0,
  "metadata": {
    "colab": {
      "name": "ResNet_Chest_X-rays_dataset.ipynb",
      "provenance": [],
      "collapsed_sections": []
    },
    "kernelspec": {
      "name": "python3",
      "display_name": "Python 3"
    },
    "language_info": {
      "name": "python"
    },
    "accelerator": "GPU"
  },
  "cells": [
    {
      "cell_type": "markdown",
      "metadata": {
        "id": "LawmWhMQ_HoO"
      },
      "source": [
        "##Mounting the drive to get dataset from drive"
      ]
    },
    {
      "cell_type": "code",
      "metadata": {
        "colab": {
          "base_uri": "https://localhost:8080/"
        },
        "id": "YgagwEynf_no",
        "outputId": "2762cbad-f171-42cd-883e-fd1abfd1d744"
      },
      "source": [
        "from google.colab import drive\n",
        "drive.mount('/content/drive')"
      ],
      "execution_count": 1,
      "outputs": [
        {
          "output_type": "stream",
          "name": "stdout",
          "text": [
            "Mounted at /content/drive\n"
          ]
        }
      ]
    },
    {
      "cell_type": "markdown",
      "metadata": {
        "id": "OAL9-lIg_bEi"
      },
      "source": [
        "##Some imports\n"
      ]
    },
    {
      "cell_type": "code",
      "metadata": {
        "id": "QQ5DxyDQgNhC"
      },
      "source": [
        "import pandas as pd\n",
        "import matplotlib.pyplot as plt\n",
        "import seaborn as sn\n",
        "import skimage.io\n",
        "import tqdm\n",
        "import glob\n",
        "import tensorflow \n",
        "\n",
        "from tqdm import tqdm\n",
        "from sklearn.utils import shuffle\n",
        "from sklearn import metrics\n",
        "from sklearn.metrics import confusion_matrix, classification_report\n",
        "from sklearn.model_selection import train_test_split\n",
        "\n",
        "from skimage.io import imread, imshow\n",
        "from skimage.transform import resize\n",
        "from skimage.color import grey2rgb\n",
        "\n",
        "import tensorflow as tf\n",
        "from tensorflow.keras.preprocessing.image import ImageDataGenerator\n",
        "from tensorflow.keras.preprocessing import image_dataset_from_directory\n",
        "from tensorflow.keras.models import Sequential\n",
        "from tensorflow.keras.layers import InputLayer, BatchNormalization, Dropout, Flatten, Dense, Activation, MaxPool2D, Conv2D\n",
        "from tensorflow.keras.callbacks import EarlyStopping, ModelCheckpoint\n",
        "from tensorflow.keras.applications.vgg16 import VGG16\n",
        "from tensorflow.keras.utils import to_categorical\n",
        "from keras import optimizers\n",
        "from tensorflow.keras.optimizers import Adam\n",
        "\n",
        "from keras.callbacks import Callback,ModelCheckpoint,ReduceLROnPlateau\n",
        "from keras.models import Sequential,load_model\n",
        "from keras.layers import Dense, Dropout\n",
        "from keras.wrappers.scikit_learn import KerasClassifier\n",
        "import keras.backend as K\n",
        "\n",
        "#import tensorflow_addons as tfa\n",
        "#from tensorflow.keras.metrics import Metric\n",
        "#from tensorflow_addons.utils.types import AcceptableDTypes, FloatTensorLike\n",
        "from typeguard import typechecked\n",
        "from typing import Optional\n",
        "from google.colab import drive"
      ],
      "execution_count": 2,
      "outputs": []
    },
    {
      "cell_type": "markdown",
      "metadata": {
        "id": "0doML2XP_oD3"
      },
      "source": [
        "##Getting training, validation and testing datasets\n"
      ]
    },
    {
      "cell_type": "code",
      "metadata": {
        "id": "F5arGe3KgxNy"
      },
      "source": [
        "#Some Basic Imports\n",
        "import matplotlib.pyplot as plt #For Visualization\n",
        "import numpy as np              #For handling arrays\n",
        "import pandas as pd             # For handling data\n",
        "#Define Directories for train, test & Validation Set\n",
        "train_path = '/content/drive/MyDrive/dataset/chest_xray/train'\n",
        "test_path = '/content/drive/MyDrive/dataset/chest_xray/validation'\n",
        "valid_path = '/content/drive/MyDrive/dataset/chest_xray/test'\n",
        "#Define some often used standard parameters\n",
        "#The batch refers to the number of training examples utilized in one #iteration\n",
        "batch_size = 16 \n",
        "#The dimension of the images we are going to define is 224 x 224\n",
        "img_height = 224\n",
        "img_width = 224"
      ],
      "execution_count": 3,
      "outputs": []
    },
    {
      "cell_type": "markdown",
      "metadata": {
        "id": "uEOO_kFm_yOI"
      },
      "source": [
        "##Augmentation of dataset"
      ]
    },
    {
      "cell_type": "code",
      "metadata": {
        "id": "nnLFmHonhJ8W"
      },
      "source": [
        "from tensorflow.keras.preprocessing.image import ImageDataGenerator\n",
        "# Create Image Data Generator for Train Set\n",
        "image_gen = ImageDataGenerator(\n",
        "                                  rescale = 1./255,\n",
        "                                  shear_range = 0.2,\n",
        "                                  zoom_range = 0.2,\n",
        "                                  horizontal_flip = True,          \n",
        "                               )\n",
        "# Create Image Data Generator for Test/Validation Set\n",
        "test_data_gen = ImageDataGenerator(rescale = 1./255)"
      ],
      "execution_count": 4,
      "outputs": []
    },
    {
      "cell_type": "code",
      "metadata": {
        "colab": {
          "base_uri": "https://localhost:8080/"
        },
        "id": "kOL5iZrKhX0i",
        "outputId": "c321fa4a-9056-4a72-b567-0d929262f729"
      },
      "source": [
        "train = image_gen.flow_from_directory(\n",
        "      train_path,\n",
        "      target_size=(img_height, img_width),\n",
        "      class_mode='categorical',\n",
        "      batch_size=batch_size\n",
        "      )\n",
        "test = test_data_gen.flow_from_directory(\n",
        "      test_path,\n",
        "      target_size=(img_height, img_width),\n",
        "      shuffle=False, \n",
        "#setting shuffle as False just so we can later compare it with predicted values without having indexing problem \n",
        "      class_mode='categorical',\n",
        "      batch_size=batch_size\n",
        "      )\n",
        "valid = test_data_gen.flow_from_directory(\n",
        "      valid_path,\n",
        "      target_size=(img_height, img_width),\n",
        "      class_mode='categorical', \n",
        "      batch_size=batch_size\n",
        "      )"
      ],
      "execution_count": 5,
      "outputs": [
        {
          "output_type": "stream",
          "name": "stdout",
          "text": [
            "Found 4708 images belonging to 2 classes.\n",
            "Found 524 images belonging to 2 classes.\n",
            "Found 624 images belonging to 2 classes.\n"
          ]
        }
      ]
    },
    {
      "cell_type": "code",
      "metadata": {
        "id": "PO3spP-IhX7k"
      },
      "source": [
        "import matplotlib.pyplot as plt\n",
        "import numpy as np\n",
        "import os\n",
        "import PIL\n",
        "import tensorflow as tf\n",
        "from tensorflow import keras\n",
        "from tensorflow.keras import layers\n",
        "from tensorflow.python.keras.layers import Dense, Flatten, BatchNormalization, Activation, Dropout\n",
        "from tensorflow.keras.models import Sequential\n",
        "from tensorflow.keras.optimizers import Adam"
      ],
      "execution_count": 6,
      "outputs": []
    },
    {
      "cell_type": "markdown",
      "metadata": {
        "id": "oFWV5yRhAA5K"
      },
      "source": [
        "##Initilization of model"
      ]
    },
    {
      "cell_type": "code",
      "metadata": {
        "colab": {
          "base_uri": "https://localhost:8080/"
        },
        "id": "cQUmd8Fahpo3",
        "outputId": "cadf0c95-bee5-4eb0-d61f-7924fa15e726"
      },
      "source": [
        "resnet_model = Sequential()\n",
        "\n",
        "pretrained_model= tf.keras.applications.ResNet50(include_top=False,\n",
        "                   input_shape=(224,224,3),\n",
        "                   pooling='avg',classes=2,\n",
        "                   weights='imagenet')\n",
        "for layer in pretrained_model.layers:\n",
        "        layer.trainable=False\n",
        "resnet_model.add(pretrained_model)\n",
        "resnet_model.add(Flatten())\n",
        "resnet_model.add(BatchNormalization())\n",
        "resnet_model.add(Dense(512))\n",
        "resnet_model.add(BatchNormalization())\n",
        "resnet_model.add(Activation('relu'))\n",
        "resnet_model.add(Dropout(0.5))\n",
        "resnet_model.add(Dense(512))\n",
        "resnet_model.add(BatchNormalization())\n",
        "resnet_model.add(Activation('relu'))\n",
        "resnet_model.add(Dropout(0.5))\n",
        "resnet_model.add(Dense(512))\n",
        "resnet_model.add(BatchNormalization())\n",
        "resnet_model.add(Activation('relu'))\n",
        "resnet_model.add(Dense(2, activation='softmax'))"
      ],
      "execution_count": 7,
      "outputs": [
        {
          "output_type": "stream",
          "name": "stdout",
          "text": [
            "Downloading data from https://storage.googleapis.com/tensorflow/keras-applications/resnet/resnet50_weights_tf_dim_ordering_tf_kernels_notop.h5\n",
            "94773248/94765736 [==============================] - 1s 0us/step\n",
            "94781440/94765736 [==============================] - 1s 0us/step\n"
          ]
        }
      ]
    },
    {
      "cell_type": "code",
      "metadata": {
        "colab": {
          "base_uri": "https://localhost:8080/"
        },
        "id": "TI5Virsth6iy",
        "outputId": "4b73e5ed-1479-415b-ea50-ba61dec5ee5d"
      },
      "source": [
        "resnet_model.summary()"
      ],
      "execution_count": 8,
      "outputs": [
        {
          "output_type": "stream",
          "name": "stdout",
          "text": [
            "Model: \"sequential\"\n",
            "_________________________________________________________________\n",
            " Layer (type)                Output Shape              Param #   \n",
            "=================================================================\n",
            " resnet50 (Functional)       (None, 2048)              23587712  \n",
            "                                                                 \n",
            " module_wrapper (ModuleWrapp  (None, 2048)             0         \n",
            " er)                                                             \n",
            "                                                                 \n",
            " module_wrapper_1 (ModuleWra  (None, 2048)             8192      \n",
            " pper)                                                           \n",
            "                                                                 \n",
            " module_wrapper_2 (ModuleWra  (None, 512)              1049088   \n",
            " pper)                                                           \n",
            "                                                                 \n",
            " module_wrapper_3 (ModuleWra  (None, 512)              2048      \n",
            " pper)                                                           \n",
            "                                                                 \n",
            " module_wrapper_4 (ModuleWra  (None, 512)              0         \n",
            " pper)                                                           \n",
            "                                                                 \n",
            " module_wrapper_5 (ModuleWra  (None, 512)              0         \n",
            " pper)                                                           \n",
            "                                                                 \n",
            " module_wrapper_6 (ModuleWra  (None, 512)              262656    \n",
            " pper)                                                           \n",
            "                                                                 \n",
            " module_wrapper_7 (ModuleWra  (None, 512)              2048      \n",
            " pper)                                                           \n",
            "                                                                 \n",
            " module_wrapper_8 (ModuleWra  (None, 512)              0         \n",
            " pper)                                                           \n",
            "                                                                 \n",
            " module_wrapper_9 (ModuleWra  (None, 512)              0         \n",
            " pper)                                                           \n",
            "                                                                 \n",
            " module_wrapper_10 (ModuleWr  (None, 512)              262656    \n",
            " apper)                                                          \n",
            "                                                                 \n",
            " module_wrapper_11 (ModuleWr  (None, 512)              2048      \n",
            " apper)                                                          \n",
            "                                                                 \n",
            " module_wrapper_12 (ModuleWr  (None, 512)              0         \n",
            " apper)                                                          \n",
            "                                                                 \n",
            " module_wrapper_13 (ModuleWr  (None, 2)                1026      \n",
            " apper)                                                          \n",
            "                                                                 \n",
            "=================================================================\n",
            "Total params: 25,177,474\n",
            "Trainable params: 1,582,594\n",
            "Non-trainable params: 23,594,880\n",
            "_________________________________________________________________\n"
          ]
        }
      ]
    },
    {
      "cell_type": "markdown",
      "metadata": {
        "id": "TawEGN9qAj-n"
      },
      "source": [
        "##Compliation of Model"
      ]
    },
    {
      "cell_type": "code",
      "metadata": {
        "id": "Mg5NmdJjh_hA"
      },
      "source": [
        "resnet_model.compile(optimizer=Adam(learning_rate=0.001),loss='categorical_crossentropy',metrics=['accuracy'])"
      ],
      "execution_count": 9,
      "outputs": []
    },
    {
      "cell_type": "markdown",
      "metadata": {
        "id": "E-eY6GL0ApEi"
      },
      "source": [
        "##Training of model"
      ]
    },
    {
      "cell_type": "code",
      "metadata": {
        "colab": {
          "base_uri": "https://localhost:8080/"
        },
        "id": "I6QQP684iDYX",
        "outputId": "f44a3ec2-a854-4a26-a21b-85432dc99359"
      },
      "source": [
        "history = resnet_model.fit(\n",
        "  train,\n",
        "  validation_data=valid,\n",
        "  epochs=10\n",
        "  \n",
        ")"
      ],
      "execution_count": 10,
      "outputs": [
        {
          "output_type": "stream",
          "name": "stdout",
          "text": [
            "Epoch 1/10\n",
            "295/295 [==============================] - 959s 3s/step - loss: 0.3669 - accuracy: 0.8547 - val_loss: 0.4945 - val_accuracy: 0.7564\n",
            "Epoch 2/10\n",
            "295/295 [==============================] - 130s 440ms/step - loss: 0.2791 - accuracy: 0.8768 - val_loss: 0.3878 - val_accuracy: 0.8413\n",
            "Epoch 3/10\n",
            "295/295 [==============================] - 130s 440ms/step - loss: 0.2474 - accuracy: 0.8927 - val_loss: 0.3428 - val_accuracy: 0.8862\n",
            "Epoch 4/10\n",
            "295/295 [==============================] - 131s 444ms/step - loss: 0.2374 - accuracy: 0.8993 - val_loss: 0.3119 - val_accuracy: 0.8718\n",
            "Epoch 5/10\n",
            "295/295 [==============================] - 130s 442ms/step - loss: 0.2310 - accuracy: 0.8995 - val_loss: 0.3455 - val_accuracy: 0.8702\n",
            "Epoch 6/10\n",
            "295/295 [==============================] - 128s 435ms/step - loss: 0.2258 - accuracy: 0.9104 - val_loss: 0.3501 - val_accuracy: 0.8702\n",
            "Epoch 7/10\n",
            "295/295 [==============================] - 127s 430ms/step - loss: 0.2236 - accuracy: 0.9046 - val_loss: 0.3361 - val_accuracy: 0.8750\n",
            "Epoch 8/10\n",
            "295/295 [==============================] - 128s 433ms/step - loss: 0.2266 - accuracy: 0.9095 - val_loss: 0.3084 - val_accuracy: 0.8862\n",
            "Epoch 9/10\n",
            "295/295 [==============================] - 130s 442ms/step - loss: 0.2125 - accuracy: 0.9155 - val_loss: 0.3660 - val_accuracy: 0.8830\n",
            "Epoch 10/10\n",
            "295/295 [==============================] - 130s 441ms/step - loss: 0.2240 - accuracy: 0.9099 - val_loss: 0.3855 - val_accuracy: 0.8814\n"
          ]
        }
      ]
    },
    {
      "cell_type": "markdown",
      "metadata": {
        "id": "enuDJ-KHBGNh"
      },
      "source": [
        "##Plot of model accuracy"
      ]
    },
    {
      "cell_type": "code",
      "metadata": {
        "colab": {
          "base_uri": "https://localhost:8080/",
          "height": 295
        },
        "id": "qXf40cSxtItC",
        "outputId": "3b5daa95-a138-4f00-faf2-e7e224e6e026"
      },
      "source": [
        "fig1 = plt.gcf()\n",
        "plt.plot(history.history['accuracy'])\n",
        "plt.plot(history.history['val_accuracy'])\n",
        "plt.axis(ymin=0.1,ymax=1)\n",
        "plt.grid()\n",
        "plt.title('Model Accuracy')\n",
        "plt.ylabel('Accuracy')\n",
        "plt.xlabel('Epochs')\n",
        "plt.legend(['train', 'validation'])\n",
        "plt.show()"
      ],
      "execution_count": 11,
      "outputs": [
        {
          "output_type": "display_data",
          "data": {
            "image/png": "[encoded data removed]",
            "text/plain": [
              "<Figure size 432x288 with 1 Axes>"
            ]
          },
          "metadata": {
            "needs_background": "light"
          }
        }
      ]
    },
    {
      "cell_type": "markdown",
      "metadata": {
        "id": "5NryRbrCBMUd"
      },
      "source": [
        "##Plot of model loss"
      ]
    },
    {
      "cell_type": "code",
      "metadata": {
        "colab": {
          "base_uri": "https://localhost:8080/",
          "height": 295
        },
        "id": "w2ey6zFrtP2B",
        "outputId": "253043d1-5747-4406-8971-98ca0b4854de"
      },
      "source": [
        "plt.plot(history.history['loss'])\n",
        "plt.plot(history.history['val_loss'])\n",
        "plt.grid()\n",
        "plt.title('Model Loss')\n",
        "plt.ylabel('Loss')\n",
        "plt.xlabel('Epochs')\n",
        "plt.legend(['train', 'validation'])\n",
        "plt.show()"
      ],
      "execution_count": 12,
      "outputs": [
        {
          "output_type": "display_data",
          "data": {
            "image/png": "[encoded data removed]",
            "text/plain": [
              "<Figure size 432x288 with 1 Axes>"
            ]
          },
          "metadata": {
            "needs_background": "light"
          }
        }
      ]
    },
    {
      "cell_type": "markdown",
      "metadata": {
        "id": "6sE-xjGhBW9s"
      },
      "source": [
        "##Model accuracy on test dataset"
      ]
    },
    {
      "cell_type": "code",
      "metadata": {
        "colab": {
          "base_uri": "https://localhost:8080/"
        },
        "id": "tb7YWifktU7q",
        "outputId": "9bfaee23-7caa-43e1-a00d-c62bb76aebd3"
      },
      "source": [
        "test_accu = resnet_model.evaluate(test)\n",
        "print('The testing accuracy is :',test_accu[1]*100, '%')"
      ],
      "execution_count": 13,
      "outputs": [
        {
          "output_type": "stream",
          "name": "stdout",
          "text": [
            "33/33 [==============================] - 83s 3s/step - loss: 0.2298 - accuracy: 0.9046\n",
            "The testing accuracy is : 90.45801758766174 %\n"
          ]
        }
      ]
    },
    {
      "cell_type": "code",
      "metadata": {
        "colab": {
          "base_uri": "https://localhost:8080/"
        },
        "id": "bChoLtgtt6cb",
        "outputId": "2eafb415-16a6-494b-93d4-b6332eabb551"
      },
      "source": [
        "preds = resnet_model.predict(test,verbose=1)"
      ],
      "execution_count": 14,
      "outputs": [
        {
          "output_type": "stream",
          "name": "stdout",
          "text": [
            "33/33 [==============================] - 9s 239ms/step\n"
          ]
        }
      ]
    },
    {
      "cell_type": "code",
      "metadata": {
        "id": "0EflSNGhvbwi"
      },
      "source": [
        "import tensorflow\n",
        "import keras\n",
        "from tensorflow.keras.applications.vgg16 import VGG16\n",
        "from tensorflow.keras.applications.vgg16 import preprocess_input\n",
        "from tensorflow.keras.preprocessing.image import load_img\n",
        "from tensorflow.keras.preprocessing.image import img_to_array\n",
        "from tensorflow.keras.applications.vgg16 import decode_predictions\n",
        "\n",
        "import numpy as np\n",
        "from numpy import expand_dims\n",
        "from skimage.transform import resize\n",
        "import matplotlib.pyplot as pltv"
      ],
      "execution_count": 15,
      "outputs": []
    },
    {
      "cell_type": "code",
      "metadata": {
        "colab": {
          "base_uri": "https://localhost:8080/"
        },
        "id": "g88SrnFZvkc0",
        "outputId": "3acb3da6-5628-4619-9e87-5347567fa34a"
      },
      "source": [
        "model = VGG16()"
      ],
      "execution_count": 16,
      "outputs": [
        {
          "output_type": "stream",
          "name": "stdout",
          "text": [
            "Downloading data from https://storage.googleapis.com/tensorflow/keras-applications/vgg16/vgg16_weights_tf_dim_ordering_tf_kernels.h5\n",
            "553467904/553467096 [==============================] - 7s 0us/step\n",
            "553476096/553467096 [==============================] - 7s 0us/step\n"
          ]
        }
      ]
    },
    {
      "cell_type": "code",
      "metadata": {
        "colab": {
          "base_uri": "https://localhost:8080/"
        },
        "id": "lgv3eGpYvoOF",
        "outputId": "8a79a3b4-f3c0-4bc4-ae9c-8f04cc262d2d"
      },
      "source": [
        "model.summary()"
      ],
      "execution_count": 17,
      "outputs": [
        {
          "output_type": "stream",
          "name": "stdout",
          "text": [
            "Model: \"vgg16\"\n",
            "_________________________________________________________________\n",
            " Layer (type)                Output Shape              Param #   \n",
            "=================================================================\n",
            " input_2 (InputLayer)        [(None, 224, 224, 3)]     0         \n",
            "                                                                 \n",
            " block1_conv1 (Conv2D)       (None, 224, 224, 64)      1792      \n",
            "                                                                 \n",
            " block1_conv2 (Conv2D)       (None, 224, 224, 64)      36928     \n",
            "                                                                 \n",
            " block1_pool (MaxPooling2D)  (None, 112, 112, 64)      0         \n",
            "                                                                 \n",
            " block2_conv1 (Conv2D)       (None, 112, 112, 128)     73856     \n",
            "                                                                 \n",
            " block2_conv2 (Conv2D)       (None, 112, 112, 128)     147584    \n",
            "                                                                 \n",
            " block2_pool (MaxPooling2D)  (None, 56, 56, 128)       0         \n",
            "                                                                 \n",
            " block3_conv1 (Conv2D)       (None, 56, 56, 256)       295168    \n",
            "                                                                 \n",
            " block3_conv2 (Conv2D)       (None, 56, 56, 256)       590080    \n",
            "                                                                 \n",
            " block3_conv3 (Conv2D)       (None, 56, 56, 256)       590080    \n",
            "                                                                 \n",
            " block3_pool (MaxPooling2D)  (None, 28, 28, 256)       0         \n",
            "                                                                 \n",
            " block4_conv1 (Conv2D)       (None, 28, 28, 512)       1180160   \n",
            "                                                                 \n",
            " block4_conv2 (Conv2D)       (None, 28, 28, 512)       2359808   \n",
            "                                                                 \n",
            " block4_conv3 (Conv2D)       (None, 28, 28, 512)       2359808   \n",
            "                                                                 \n",
            " block4_pool (MaxPooling2D)  (None, 14, 14, 512)       0         \n",
            "                                                                 \n",
            " block5_conv1 (Conv2D)       (None, 14, 14, 512)       2359808   \n",
            "                                                                 \n",
            " block5_conv2 (Conv2D)       (None, 14, 14, 512)       2359808   \n",
            "                                                                 \n",
            " block5_conv3 (Conv2D)       (None, 14, 14, 512)       2359808   \n",
            "                                                                 \n",
            " block5_pool (MaxPooling2D)  (None, 7, 7, 512)         0         \n",
            "                                                                 \n",
            " flatten (Flatten)           (None, 25088)             0         \n",
            "                                                                 \n",
            " fc1 (Dense)                 (None, 4096)              102764544 \n",
            "                                                                 \n",
            " fc2 (Dense)                 (None, 4096)              16781312  \n",
            "                                                                 \n",
            " predictions (Dense)         (None, 1000)              4097000   \n",
            "                                                                 \n",
            "=================================================================\n",
            "Total params: 138,357,544\n",
            "Trainable params: 138,357,544\n",
            "Non-trainable params: 0\n",
            "_________________________________________________________________\n"
          ]
        }
      ]
    },
    {
      "cell_type": "code",
      "metadata": {
        "id": "m_0tfd83vuse"
      },
      "source": [
        "# separate the classifier layer names in a list\n",
        "classifier_layer_names = ['block5_pool', 'flatten', 'fc1', 'fc2', \n",
        "                          'predictions']"
      ],
      "execution_count": 18,
      "outputs": []
    },
    {
      "cell_type": "code",
      "metadata": {
        "id": "ltYNEEgyvydW"
      },
      "source": [
        "# load the image and preprocess it\n",
        "img = load_img('/content/drive/MyDrive/dataset/chest_xray/train/NORMAL/IM-0119-0001.jpeg', target_size=(224, 224))\n",
        "img = img_to_array(img)\n",
        "img = expand_dims(img, axis=0)\n",
        "img = preprocess_input(img)"
      ],
      "execution_count": 19,
      "outputs": []
    },
    {
      "cell_type": "code",
      "metadata": {
        "id": "ffW8MfMzwCh6"
      },
      "source": [
        "# get the last conv layer\n",
        "last_conv_layer = model.get_layer('block5_conv3')"
      ],
      "execution_count": 20,
      "outputs": []
    },
    {
      "cell_type": "code",
      "metadata": {
        "id": "ymzCOgYPwFua"
      },
      "source": [
        "# new model that outputs last conv layer's feature map\n",
        "last_conv_layer_model = keras.Model(model.inputs, last_conv_layer.output)"
      ],
      "execution_count": 21,
      "outputs": []
    },
    {
      "cell_type": "code",
      "metadata": {
        "id": "xSXByxdewOdQ"
      },
      "source": [
        "# We create a model that maps the activations of the last conv\n",
        "# layer to the final class predictions\n",
        "\n",
        "classifier_input = keras.Input(shape=last_conv_layer.output.shape[1:])\n",
        "x = classifier_input\n",
        "for layer_name in classifier_layer_names:\n",
        "  x = model.get_layer(layer_name)(x)\n",
        "classifier_model = keras.Model(classifier_input, x)"
      ],
      "execution_count": 22,
      "outputs": []
    },
    {
      "cell_type": "code",
      "metadata": {
        "id": "X0vd4FUswRqj"
      },
      "source": [
        "with tf.GradientTape() as tape:\n",
        "    # Compute activations of the last conv layer and make the tape watch it\n",
        "    last_conv_layer_output = last_conv_layer_model(img)\n",
        "    tape.watch(last_conv_layer_output)\n",
        "    # Compute class predictions\n",
        "    preds = classifier_model(last_conv_layer_output)\n",
        "    top_pred_index = tf.argmax(preds[0])\n",
        "    top_class_channel = preds[:, top_pred_index]"
      ],
      "execution_count": 23,
      "outputs": []
    },
    {
      "cell_type": "code",
      "metadata": {
        "id": "LRwLVPdVwXfF"
      },
      "source": [
        "# This is the gradient of the top predicted class with regard to\n",
        "# the output feature map of the last conv layer\n",
        "grads = tape.gradient(top_class_channel, last_conv_layer_output)\n",
        "\n",
        "# This is a vector where each entry is the mean intensity of the gradient\n",
        "# over a specific feature map channel\n",
        "pooled_grads = tf.reduce_mean(grads, axis=(0, 1, 2))\n",
        "\n",
        "# We multiply each channel in the feature map array\n",
        "# by \"how important this channel is\" with regard to the top predicted class\n",
        "last_conv_layer_output = last_conv_layer_output.numpy()[0]\n",
        "pooled_grads = pooled_grads.numpy()\n",
        "for i in range(pooled_grads.shape[-1]):\n",
        "    last_conv_layer_output[:, :, i] *= pooled_grads[i]\n",
        "\n",
        "# The channel-wise mean of the resulting feature map\n",
        "# is our heatmap of class activation\n",
        "heatmap = np.mean(last_conv_layer_output, axis=-1)\n",
        "\n",
        "# For visualization purpose, we will also normalize the heatmap between 0 & 1\n",
        "heatmap = np.maximum(heatmap, 0) / np.max(heatmap)"
      ],
      "execution_count": 24,
      "outputs": []
    },
    {
      "cell_type": "code",
      "metadata": {
        "colab": {
          "base_uri": "https://localhost:8080/"
        },
        "id": "IaGHZsktwdjx",
        "outputId": "4e0ee4c1-83db-413a-81ed-3141d33c8e1a"
      },
      "source": [
        "# print top class prediction\n",
        "print(decode_predictions(model.predict(img), top=1)[0])"
      ],
      "execution_count": 25,
      "outputs": [
        {
          "output_type": "stream",
          "name": "stdout",
          "text": [
            "Downloading data from https://storage.googleapis.com/download.tensorflow.org/data/imagenet_class_index.json\n",
            "40960/35363 [==================================] - 0s 0us/step\n",
            "49152/35363 [=========================================] - 0s 0us/step\n",
            "[('n01943899', 'conch', 0.33203632)]\n"
          ]
        }
      ]
    },
    {
      "cell_type": "code",
      "metadata": {
        "colab": {
          "base_uri": "https://localhost:8080/",
          "height": 275
        },
        "id": "j3cgL43wwgmW",
        "outputId": "d356bfa3-8556-41df-8f8c-c2c025d5ed68"
      },
      "source": [
        "# Display heatmap\n",
        "plt.matshow(heatmap)\n",
        "plt.show()"
      ],
      "execution_count": 26,
      "outputs": [
        {
          "output_type": "display_data",
          "data": {
            "image/png": "[encoded data removed]",
            "text/plain": [
              "<Figure size 288x288 with 1 Axes>"
            ]
          },
          "metadata": {
            "needs_background": "light"
          }
        }
      ]
    }
  ]
}